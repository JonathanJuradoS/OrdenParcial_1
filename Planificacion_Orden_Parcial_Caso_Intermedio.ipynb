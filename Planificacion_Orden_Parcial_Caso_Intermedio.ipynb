{
  "cells": [
    {
      "cell_type": "markdown",
      "metadata": {
        "id": "view-in-github",
        "colab_type": "text"
      },
      "source": [
        "<a href=\"https://colab.research.google.com/github/JonathanJuradoS/OrdenParcial_1/blob/main/Planificacion_Orden_Parcial_Caso_Intermedio.ipynb\" target=\"_parent\"><img src=\"https://colab.research.google.com/assets/colab-badge.svg\" alt=\"Open In Colab\"/></a>"
      ]
    },
    {
      "cell_type": "markdown",
      "id": "b23d124f",
      "metadata": {
        "id": "b23d124f"
      },
      "source": [
        "\n",
        "# Plantilla: Reparto de pedidos en una ciudad inteligente\n",
        "\n",
        "## Objetivo\n",
        "Aplicar la planificación de orden parcial para representar las acciones, restricciones de orden y vínculos causales.\n",
        "\n",
        "### Descripción del caso\n",
        "Una empresa de logística ha implementado un sistema de IA para la planificación de repartos de paquetes en una ciudad inteligente. Cada repartidor tiene una lista de tareas (cargar paquetes, revisar ruta, entregar a clientes, confirmar entrega) y debe cumplirlas respetando ciertas dependencias operativas y limitaciones del sistema, como el uso compartido del almacén o restricciones de tráfico.\n",
        "\n",
        "### Acciones sugeridas\n",
        "- Revisar lista de entregas\n",
        "- Cargar vehículo\n",
        "- Verificar ruta óptima\n",
        "- Iniciar entregas\n",
        "- Confirmar entregas\n"
      ]
    },
    {
      "cell_type": "markdown",
      "id": "5c363a70",
      "metadata": {
        "id": "5c363a70"
      },
      "source": [
        "\n",
        "## Actividades solicitadas\n",
        "\n",
        "A continuación, se presentan las instrucciones para que desarrolles el caso práctico paso a paso. Completa cada celda con el código correspondiente.\n"
      ]
    },
    {
      "cell_type": "markdown",
      "id": "626e29ed",
      "metadata": {
        "id": "626e29ed"
      },
      "source": [
        "### Paso 1: Define el conjunto de acciones como un diccionario (clave: código, valor: descripción)."
      ]
    },
    {
      "cell_type": "code",
      "execution_count": null,
      "id": "79bfeb8e",
      "metadata": {
        "id": "79bfeb8e"
      },
      "outputs": [],
      "source": [
        "# Tu código aquí"
      ]
    },
    {
      "cell_type": "markdown",
      "id": "5668b6cd",
      "metadata": {
        "id": "5668b6cd"
      },
      "source": [
        "### Paso 2: Define las relaciones de orden entre acciones como una lista de tuplas."
      ]
    },
    {
      "cell_type": "code",
      "execution_count": null,
      "id": "28112972",
      "metadata": {
        "id": "28112972"
      },
      "outputs": [],
      "source": [
        "# Tu código aquí"
      ]
    },
    {
      "cell_type": "markdown",
      "id": "4e3feae8",
      "metadata": {
        "id": "4e3feae8"
      },
      "source": [
        "### Paso 3: Construye un grafo dirigido utilizando NetworkX."
      ]
    },
    {
      "cell_type": "code",
      "execution_count": null,
      "id": "ef9b50c6",
      "metadata": {
        "id": "ef9b50c6"
      },
      "outputs": [],
      "source": [
        "# Tu código aquí"
      ]
    },
    {
      "cell_type": "markdown",
      "id": "d4163f9b",
      "metadata": {
        "id": "d4163f9b"
      },
      "source": [
        "### Paso 4: Dibuja el grafo para visualizar el plan de orden parcial."
      ]
    },
    {
      "cell_type": "code",
      "execution_count": null,
      "id": "4ba3b090",
      "metadata": {
        "id": "4ba3b090"
      },
      "outputs": [],
      "source": [
        "# Tu código aquí"
      ]
    },
    {
      "cell_type": "markdown",
      "id": "d5c59cd2",
      "metadata": {
        "id": "d5c59cd2"
      },
      "source": [
        "### Paso 5: Identifica y muestra las acciones iniciales (sin dependencias previas)."
      ]
    },
    {
      "cell_type": "code",
      "execution_count": null,
      "id": "b6c69497",
      "metadata": {
        "id": "b6c69497"
      },
      "outputs": [],
      "source": [
        "# Tu código aquí"
      ]
    },
    {
      "cell_type": "markdown",
      "id": "431497da",
      "metadata": {
        "id": "431497da"
      },
      "source": [
        "### Paso 6: Calcula el nivel de paralelismo inicial."
      ]
    },
    {
      "cell_type": "code",
      "execution_count": null,
      "id": "36e32429",
      "metadata": {
        "id": "36e32429"
      },
      "outputs": [],
      "source": [
        "# Tu código aquí"
      ]
    },
    {
      "cell_type": "markdown",
      "id": "6c2bb4fc",
      "metadata": {
        "id": "6c2bb4fc"
      },
      "source": [
        "\n",
        "## Conclusiones\n",
        "\n",
        "Reflexiona y responde:\n",
        "- ¿Qué acciones pueden realizarse en paralelo?\n",
        "- ¿Qué aprendiste al aplicar planificación de orden parcial a un sistema real?\n"
      ]
    }
  ],
  "metadata": {
    "colab": {
      "provenance": [],
      "include_colab_link": true
    }
  },
  "nbformat": 4,
  "nbformat_minor": 5
}